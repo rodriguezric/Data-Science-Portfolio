{
 "cells": [
  {
   "cell_type": "markdown",
   "metadata": {},
   "source": [
    "# Genshin Stats Study\n",
    "I am going to explore this Genshin stats CSV. I'd like to try to predict a stat (HP) based on other stats if possible."
   ]
  },
  {
   "cell_type": "code",
   "execution_count": 2,
   "metadata": {},
   "outputs": [],
   "source": [
    "# Import Libraries\n",
    "import numpy as np\n",
    "import pandas as pd\n",
    "import matplotlib.pyplot as plt\n",
    "import seaborn as sns"
   ]
  },
  {
   "cell_type": "code",
   "execution_count": 3,
   "metadata": {},
   "outputs": [],
   "source": [
    "# Read CSV data and store in a DataFrame\n",
    "df = pd.read_csv('CharAtbMax.csv')"
   ]
  },
  {
   "cell_type": "markdown",
   "metadata": {},
   "source": [
    "## Exploring the Data\n"
   ]
  },
  {
   "cell_type": "code",
   "execution_count": 4,
   "metadata": {},
   "outputs": [
    {
     "name": "stdout",
     "output_type": "stream",
     "text": [
      "- ATK\n",
      "- Arma\n",
      "- Atributo\n",
      "- DEF\n",
      "- Dano+DanoCritico\n",
      "- HP\n",
      "- Level\n",
      "- Personagem\n",
      "- SPAtrib\n",
      "- TaxaCrit\n"
     ]
    },
    {
     "data": {
      "text/plain": [
       "[None, None, None, None, None, None, None, None, None, None]"
      ]
     },
     "execution_count": 4,
     "metadata": {},
     "output_type": "execute_result"
    }
   ],
   "source": [
    "[print(\"- \" + x) for x in sorted(list(df.columns))]"
   ]
  },
  {
   "cell_type": "code",
   "execution_count": 5,
   "metadata": {},
   "outputs": [
    {
     "data": {
      "text/plain": [
       "Personagem          0\n",
       "Level               0\n",
       "Arma                0\n",
       "HP                  0\n",
       "ATK                 0\n",
       "DEF                 0\n",
       "SPAtrib             0\n",
       "Atributo            0\n",
       "TaxaCrit            0\n",
       "Dano+DanoCritico    0\n",
       "dtype: int64"
      ]
     },
     "execution_count": 5,
     "metadata": {},
     "output_type": "execute_result"
    }
   ],
   "source": [
    "df.isnull().sum()"
   ]
  },
  {
   "cell_type": "code",
   "execution_count": 6,
   "metadata": {},
   "outputs": [
    {
     "data": {
      "text/html": [
       "<div>\n",
       "<style scoped>\n",
       "    .dataframe tbody tr th:only-of-type {\n",
       "        vertical-align: middle;\n",
       "    }\n",
       "\n",
       "    .dataframe tbody tr th {\n",
       "        vertical-align: top;\n",
       "    }\n",
       "\n",
       "    .dataframe thead th {\n",
       "        text-align: right;\n",
       "    }\n",
       "</style>\n",
       "<table border=\"1\" class=\"dataframe\">\n",
       "  <thead>\n",
       "    <tr style=\"text-align: right;\">\n",
       "      <th></th>\n",
       "      <th>Level</th>\n",
       "      <th>HP</th>\n",
       "      <th>ATK</th>\n",
       "      <th>DEF</th>\n",
       "      <th>SPAtrib</th>\n",
       "      <th>TaxaCrit</th>\n",
       "      <th>Dano+DanoCritico</th>\n",
       "    </tr>\n",
       "  </thead>\n",
       "  <tbody>\n",
       "    <tr>\n",
       "      <th>count</th>\n",
       "      <td>41.0</td>\n",
       "      <td>41.000000</td>\n",
       "      <td>41.000000</td>\n",
       "      <td>41.000000</td>\n",
       "      <td>41.000000</td>\n",
       "      <td>41.000000</td>\n",
       "      <td>41.000000</td>\n",
       "    </tr>\n",
       "    <tr>\n",
       "      <th>mean</th>\n",
       "      <td>90.0</td>\n",
       "      <td>11528.829268</td>\n",
       "      <td>249.975610</td>\n",
       "      <td>716.073171</td>\n",
       "      <td>10.073805</td>\n",
       "      <td>0.064049</td>\n",
       "      <td>1.546829</td>\n",
       "    </tr>\n",
       "    <tr>\n",
       "      <th>std</th>\n",
       "      <td>0.0</td>\n",
       "      <td>1674.877666</td>\n",
       "      <td>57.049315</td>\n",
       "      <td>90.654672</td>\n",
       "      <td>30.296488</td>\n",
       "      <td>0.050621</td>\n",
       "      <td>0.127217</td>\n",
       "    </tr>\n",
       "    <tr>\n",
       "      <th>min</th>\n",
       "      <td>90.0</td>\n",
       "      <td>9189.000000</td>\n",
       "      <td>106.000000</td>\n",
       "      <td>573.000000</td>\n",
       "      <td>0.192000</td>\n",
       "      <td>0.050000</td>\n",
       "      <td>1.500000</td>\n",
       "    </tr>\n",
       "    <tr>\n",
       "      <th>25%</th>\n",
       "      <td>90.0</td>\n",
       "      <td>10164.000000</td>\n",
       "      <td>212.000000</td>\n",
       "      <td>648.000000</td>\n",
       "      <td>0.240000</td>\n",
       "      <td>0.050000</td>\n",
       "      <td>1.500000</td>\n",
       "    </tr>\n",
       "    <tr>\n",
       "      <th>50%</th>\n",
       "      <td>90.0</td>\n",
       "      <td>11201.000000</td>\n",
       "      <td>240.000000</td>\n",
       "      <td>710.000000</td>\n",
       "      <td>0.240000</td>\n",
       "      <td>0.050000</td>\n",
       "      <td>1.500000</td>\n",
       "    </tr>\n",
       "    <tr>\n",
       "      <th>75%</th>\n",
       "      <td>90.0</td>\n",
       "      <td>12907.000000</td>\n",
       "      <td>297.000000</td>\n",
       "      <td>789.000000</td>\n",
       "      <td>0.320000</td>\n",
       "      <td>0.050000</td>\n",
       "      <td>1.500000</td>\n",
       "    </tr>\n",
       "    <tr>\n",
       "      <th>max</th>\n",
       "      <td>90.0</td>\n",
       "      <td>15552.000000</td>\n",
       "      <td>349.000000</td>\n",
       "      <td>922.000000</td>\n",
       "      <td>115.000000</td>\n",
       "      <td>0.242000</td>\n",
       "      <td>1.884000</td>\n",
       "    </tr>\n",
       "  </tbody>\n",
       "</table>\n",
       "</div>"
      ],
      "text/plain": [
       "       Level            HP         ATK         DEF     SPAtrib   TaxaCrit  \\\n",
       "count   41.0     41.000000   41.000000   41.000000   41.000000  41.000000   \n",
       "mean    90.0  11528.829268  249.975610  716.073171   10.073805   0.064049   \n",
       "std      0.0   1674.877666   57.049315   90.654672   30.296488   0.050621   \n",
       "min     90.0   9189.000000  106.000000  573.000000    0.192000   0.050000   \n",
       "25%     90.0  10164.000000  212.000000  648.000000    0.240000   0.050000   \n",
       "50%     90.0  11201.000000  240.000000  710.000000    0.240000   0.050000   \n",
       "75%     90.0  12907.000000  297.000000  789.000000    0.320000   0.050000   \n",
       "max     90.0  15552.000000  349.000000  922.000000  115.000000   0.242000   \n",
       "\n",
       "       Dano+DanoCritico  \n",
       "count         41.000000  \n",
       "mean           1.546829  \n",
       "std            0.127217  \n",
       "min            1.500000  \n",
       "25%            1.500000  \n",
       "50%            1.500000  \n",
       "75%            1.500000  \n",
       "max            1.884000  "
      ]
     },
     "execution_count": 6,
     "metadata": {},
     "output_type": "execute_result"
    }
   ],
   "source": [
    "df.describe()"
   ]
  },
  {
   "cell_type": "code",
   "execution_count": 7,
   "metadata": {},
   "outputs": [
    {
     "data": {
      "text/plain": [
       "410"
      ]
     },
     "execution_count": 7,
     "metadata": {},
     "output_type": "execute_result"
    }
   ],
   "source": [
    "df.size"
   ]
  },
  {
   "cell_type": "code",
   "execution_count": 8,
   "metadata": {},
   "outputs": [
    {
     "data": {
      "text/plain": [
       "<AxesSubplot:xlabel='ATK', ylabel='HP'>"
      ]
     },
     "execution_count": 8,
     "metadata": {},
     "output_type": "execute_result"
    },
    {
     "data": {
      "image/png": "[encoded data removed]",
      "text/plain": [
       "<Figure size 432x288 with 1 Axes>"
      ]
     },
     "metadata": {
      "needs_background": "light"
     },
     "output_type": "display_data"
    }
   ],
   "source": [
    "sns.scatterplot(data=df, x=\"ATK\", y=\"HP\")\n",
    "sns.scatterplot(data=df, x=\"DEF\", y=\"HP\")"
   ]
  },
  {
   "cell_type": "markdown",
   "metadata": {},
   "source": [
    "### Results\n",
    "This is a small dataset (410 items) with no null values. I won't need to clean any rows. The column names are in a different language (Portuguese), but I can understand what the columns represent based on their data.\n",
    "\n",
    "#### Columns\n",
    "- ATK\n",
    "- Arma: Weapon\n",
    "- Atributo: Attribute\n",
    "- DEF\n",
    "- Dano+DanoCritico: Damage+Crit\n",
    "- HP\n",
    "- Level\n",
    "- Personagem: Googled, \"Character\"\n",
    "- SPAtrib: \"Special Attribute\"\n",
    "- TaxaCrit: Googled, \"Crit Rate\"\n",
    "\n",
    "#### Stat Trends\n",
    "It looks like `ATK` and `DEF` positively correlate with `HP`. `ATK` has an outlier that will skew the results, probably resulting with the correlation looking flatter. I think this point should be removed when training the models."
   ]
  },
  {
   "cell_type": "markdown",
   "metadata": {},
   "source": [
    "## Cleaning\n",
    "I'm going to rename the columns based on the translations I looked up and also cleanup some of the symbols to reduce the noise when looking at the fields."
   ]
  },
  {
   "cell_type": "code",
   "execution_count": 9,
   "metadata": {},
   "outputs": [],
   "source": [
    "df.columns = ['Character', 'Level', 'Weapon', 'HP', 'ATK', 'DEF', 'Special Attribute',\n",
    "       'Attribute', 'Crit Rate', 'DMG+CritDMG']"
   ]
  },
  {
   "cell_type": "code",
   "execution_count": 10,
   "metadata": {},
   "outputs": [
    {
     "data": {
      "text/html": [
       "<div>\n",
       "<style scoped>\n",
       "    .dataframe tbody tr th:only-of-type {\n",
       "        vertical-align: middle;\n",
       "    }\n",
       "\n",
       "    .dataframe tbody tr th {\n",
       "        vertical-align: top;\n",
       "    }\n",
       "\n",
       "    .dataframe thead th {\n",
       "        text-align: right;\n",
       "    }\n",
       "</style>\n",
       "<table border=\"1\" class=\"dataframe\">\n",
       "  <thead>\n",
       "    <tr style=\"text-align: right;\">\n",
       "      <th></th>\n",
       "      <th>Character</th>\n",
       "      <th>Level</th>\n",
       "      <th>Weapon</th>\n",
       "      <th>HP</th>\n",
       "      <th>ATK</th>\n",
       "      <th>DEF</th>\n",
       "      <th>Special Attribute</th>\n",
       "      <th>Attribute</th>\n",
       "      <th>Crit Rate</th>\n",
       "      <th>DMG+CritDMG</th>\n",
       "    </tr>\n",
       "  </thead>\n",
       "  <tbody>\n",
       "    <tr>\n",
       "      <th>0</th>\n",
       "      <td>Amber</td>\n",
       "      <td>90</td>\n",
       "      <td>Arco</td>\n",
       "      <td>9461</td>\n",
       "      <td>223</td>\n",
       "      <td>601</td>\n",
       "      <td>0.240</td>\n",
       "      <td>%ATK</td>\n",
       "      <td>0.05</td>\n",
       "      <td>1.5</td>\n",
       "    </tr>\n",
       "    <tr>\n",
       "      <th>1</th>\n",
       "      <td>Barbara</td>\n",
       "      <td>90</td>\n",
       "      <td>Catalisador</td>\n",
       "      <td>9787</td>\n",
       "      <td>159</td>\n",
       "      <td>669</td>\n",
       "      <td>0.240</td>\n",
       "      <td>%Vida</td>\n",
       "      <td>0.05</td>\n",
       "      <td>1.5</td>\n",
       "    </tr>\n",
       "    <tr>\n",
       "      <th>2</th>\n",
       "      <td>Beidou</td>\n",
       "      <td>90</td>\n",
       "      <td>Espadão</td>\n",
       "      <td>13050</td>\n",
       "      <td>225</td>\n",
       "      <td>648</td>\n",
       "      <td>0.240</td>\n",
       "      <td>%DanoElectro</td>\n",
       "      <td>0.05</td>\n",
       "      <td>1.5</td>\n",
       "    </tr>\n",
       "    <tr>\n",
       "      <th>3</th>\n",
       "      <td>Bennett</td>\n",
       "      <td>90</td>\n",
       "      <td>Espada</td>\n",
       "      <td>12397</td>\n",
       "      <td>191</td>\n",
       "      <td>771</td>\n",
       "      <td>0.267</td>\n",
       "      <td>%RecargaEnergia</td>\n",
       "      <td>0.05</td>\n",
       "      <td>1.5</td>\n",
       "    </tr>\n",
       "    <tr>\n",
       "      <th>4</th>\n",
       "      <td>Chongyun</td>\n",
       "      <td>90</td>\n",
       "      <td>Espadão</td>\n",
       "      <td>10984</td>\n",
       "      <td>223</td>\n",
       "      <td>648</td>\n",
       "      <td>0.240</td>\n",
       "      <td>%ATK</td>\n",
       "      <td>0.05</td>\n",
       "      <td>1.5</td>\n",
       "    </tr>\n",
       "  </tbody>\n",
       "</table>\n",
       "</div>"
      ],
      "text/plain": [
       "  Character  Level       Weapon     HP  ATK  DEF  Special Attribute  \\\n",
       "0     Amber     90         Arco   9461  223  601              0.240   \n",
       "1   Barbara     90  Catalisador   9787  159  669              0.240   \n",
       "2    Beidou     90      Espadão  13050  225  648              0.240   \n",
       "3   Bennett     90       Espada  12397  191  771              0.267   \n",
       "4  Chongyun     90      Espadão  10984  223  648              0.240   \n",
       "\n",
       "         Attribute  Crit Rate  DMG+CritDMG  \n",
       "0             %ATK       0.05          1.5  \n",
       "1            %Vida       0.05          1.5  \n",
       "2     %DanoElectro       0.05          1.5  \n",
       "3  %RecargaEnergia       0.05          1.5  \n",
       "4             %ATK       0.05          1.5  "
      ]
     },
     "execution_count": 10,
     "metadata": {},
     "output_type": "execute_result"
    }
   ],
   "source": [
    "df.head()"
   ]
  },
  {
   "cell_type": "markdown",
   "metadata": {},
   "source": [
    "### Attribute Cleaning\n",
    "I'm going to translate the names of the Attribute column and remove the `%` symbol."
   ]
  },
  {
   "cell_type": "code",
   "execution_count": 11,
   "metadata": {},
   "outputs": [
    {
     "data": {
      "text/plain": [
       "array(['%ATK', '%Vida', '%DanoElectro', '%RecargaEnergia', '%TaxaCritica',\n",
       "       '%BonusdeCura', '%DanoCritico', '%BonusDanoPyro',\n",
       "       'ProficienciaElemental', '%BonusDanoGeo', '%DEF',\n",
       "       '%BonusDanoFisico', '%BonusDanoAnemo', '%BonusDanoHydro',\n",
       "       '%BonusDanoCryo'], dtype=object)"
      ]
     },
     "execution_count": 11,
     "metadata": {},
     "output_type": "execute_result"
    }
   ],
   "source": [
    "df.Attribute.unique()"
   ]
  },
  {
   "cell_type": "code",
   "execution_count": 12,
   "metadata": {},
   "outputs": [],
   "source": [
    "attribute_dict = {\n",
    "    '%ATK': 'ATK', '%Vida': 'Life', '%DanoElectro': 'Lightning Damage', '%RecargaEnergia': 'Energy Recharge', '%TaxaCritica': 'Crit Rate',\n",
    "       '%BonusdeCura': 'Healing Bonus', '%DanoCritico': 'Crit Damage', '%BonusDanoPyro': 'Fire Damage',\n",
    "       'ProficienciaElemental': 'Elemental Proficiency', '%BonusDanoGeo': 'Earth Damage', '%DEF': 'DEF',\n",
    "       '%BonusDanoFisico': 'Physical Damage', '%BonusDanoAnemo': 'Wind Damage', '%BonusDanoHydro': 'Water Damage',\n",
    "       '%BonusDanoCryo': 'Ice Damage'\n",
    "}\n",
    "\n",
    "df.Attribute = df.Attribute.map(lambda x: attribute_dict[x])"
   ]
  },
  {
   "cell_type": "code",
   "execution_count": 13,
   "metadata": {},
   "outputs": [
    {
     "data": {
      "text/plain": [
       "array(['ATK', 'Life', 'Lightning Damage', 'Energy Recharge', 'Crit Rate',\n",
       "       'Healing Bonus', 'Crit Damage', 'Fire Damage',\n",
       "       'Elemental Proficiency', 'Earth Damage', 'DEF', 'Physical Damage',\n",
       "       'Wind Damage', 'Water Damage', 'Ice Damage'], dtype=object)"
      ]
     },
     "execution_count": 13,
     "metadata": {},
     "output_type": "execute_result"
    }
   ],
   "source": [
    "df.Attribute.unique()"
   ]
  },
  {
   "cell_type": "markdown",
   "metadata": {},
   "source": [
    "## Attribute Analysis"
   ]
  },
  {
   "cell_type": "code",
   "execution_count": 14,
   "metadata": {},
   "outputs": [
    {
     "name": "stdout",
     "output_type": "stream",
     "text": [
      "ATK                      10\n",
      "Energy Recharge           5\n",
      "Crit Damage               5\n",
      "Elemental Proficiency     4\n",
      "Crit Rate                 3\n",
      "Earth Damage              3\n",
      "Healing Bonus             2\n",
      "Fire Damage               2\n",
      "DEF                       1\n",
      "Physical Damage           1\n",
      "Life                      1\n",
      "Wind Damage               1\n",
      "Ice Damage                1\n",
      "Water Damage              1\n",
      "Lightning Damage          1\n",
      "Name: Attribute, dtype: int64\n"
     ]
    }
   ],
   "source": [
    "print(df.Attribute.value_counts())"
   ]
  },
  {
   "cell_type": "code",
   "execution_count": 108,
   "metadata": {},
   "outputs": [
    {
     "data": {
      "text/plain": [
       "<AxesSubplot:xlabel='HP', ylabel='Count'>"
      ]
     },
     "execution_count": 108,
     "metadata": {},
     "output_type": "execute_result"
    },
    {
     "data": {
      "image/png": "[encoded data removed]",
      "text/plain": [
       "<Figure size 1080x720 with 1 Axes>"
      ]
     },
     "metadata": {
      "needs_background": "light"
     },
     "output_type": "display_data"
    }
   ],
   "source": [
    "plt.figure(figsize=(15,10))\n",
    "\n",
    "sns.histplot(data=df, x=\"HP\", bins=10, hue=\"Attribute\", palette=\"Dark2\")\n"
   ]
  },
  {
   "cell_type": "markdown",
   "metadata": {},
   "source": [
    "Characters with `Healing Bonus` attribute have high HP."
   ]
  },
  {
   "cell_type": "markdown",
   "metadata": {},
   "source": [
    "### Removing ATK Outlier\n"
   ]
  },
  {
   "cell_type": "code",
   "execution_count": 20,
   "metadata": {},
   "outputs": [
    {
     "data": {
      "text/html": [
       "<div>\n",
       "<style scoped>\n",
       "    .dataframe tbody tr th:only-of-type {\n",
       "        vertical-align: middle;\n",
       "    }\n",
       "\n",
       "    .dataframe tbody tr th {\n",
       "        vertical-align: top;\n",
       "    }\n",
       "\n",
       "    .dataframe thead th {\n",
       "        text-align: right;\n",
       "    }\n",
       "</style>\n",
       "<table border=\"1\" class=\"dataframe\">\n",
       "  <thead>\n",
       "    <tr style=\"text-align: right;\">\n",
       "      <th></th>\n",
       "      <th>Character</th>\n",
       "      <th>ATK</th>\n",
       "      <th>HP</th>\n",
       "    </tr>\n",
       "  </thead>\n",
       "  <tbody>\n",
       "    <tr>\n",
       "      <th>33</th>\n",
       "      <td>Hu Tao</td>\n",
       "      <td>106</td>\n",
       "      <td>15552</td>\n",
       "    </tr>\n",
       "    <tr>\n",
       "      <th>26</th>\n",
       "      <td>Zhongli</td>\n",
       "      <td>251</td>\n",
       "      <td>14695</td>\n",
       "    </tr>\n",
       "    <tr>\n",
       "      <th>7</th>\n",
       "      <td>Jean</td>\n",
       "      <td>239</td>\n",
       "      <td>14695</td>\n",
       "    </tr>\n",
       "  </tbody>\n",
       "</table>\n",
       "</div>"
      ],
      "text/plain": [
       "   Character  ATK     HP\n",
       "33    Hu Tao  106  15552\n",
       "26   Zhongli  251  14695\n",
       "7       Jean  239  14695"
      ]
     },
     "execution_count": 20,
     "metadata": {},
     "output_type": "execute_result"
    }
   ],
   "source": [
    "df.loc[:, [\"Character\", \"ATK\", \"HP\"]].sort_values(by=[\"HP\", \"ATK\"], ascending=False).iloc[:3]"
   ]
  },
  {
   "cell_type": "code",
   "execution_count": 21,
   "metadata": {},
   "outputs": [],
   "source": [
    "df = df[df.Character != \"Hu Tao\"]"
   ]
  },
  {
   "cell_type": "code",
   "execution_count": 22,
   "metadata": {},
   "outputs": [
    {
     "data": {
      "text/html": [
       "<div>\n",
       "<style scoped>\n",
       "    .dataframe tbody tr th:only-of-type {\n",
       "        vertical-align: middle;\n",
       "    }\n",
       "\n",
       "    .dataframe tbody tr th {\n",
       "        vertical-align: top;\n",
       "    }\n",
       "\n",
       "    .dataframe thead th {\n",
       "        text-align: right;\n",
       "    }\n",
       "</style>\n",
       "<table border=\"1\" class=\"dataframe\">\n",
       "  <thead>\n",
       "    <tr style=\"text-align: right;\">\n",
       "      <th></th>\n",
       "      <th>Character</th>\n",
       "      <th>ATK</th>\n",
       "      <th>HP</th>\n",
       "    </tr>\n",
       "  </thead>\n",
       "  <tbody>\n",
       "    <tr>\n",
       "      <th>26</th>\n",
       "      <td>Zhongli</td>\n",
       "      <td>251</td>\n",
       "      <td>14695</td>\n",
       "    </tr>\n",
       "    <tr>\n",
       "      <th>7</th>\n",
       "      <td>Jean</td>\n",
       "      <td>239</td>\n",
       "      <td>14695</td>\n",
       "    </tr>\n",
       "    <tr>\n",
       "      <th>36</th>\n",
       "      <td>Kaedehara Kazuha</td>\n",
       "      <td>297</td>\n",
       "      <td>13348</td>\n",
       "    </tr>\n",
       "  </tbody>\n",
       "</table>\n",
       "</div>"
      ],
      "text/plain": [
       "           Character  ATK     HP\n",
       "26           Zhongli  251  14695\n",
       "7               Jean  239  14695\n",
       "36  Kaedehara Kazuha  297  13348"
      ]
     },
     "execution_count": 22,
     "metadata": {},
     "output_type": "execute_result"
    }
   ],
   "source": [
    "df.loc[:, [\"Character\", \"ATK\", \"HP\"]].sort_values(by=[\"HP\", \"ATK\"], ascending=False).iloc[:3]\n"
   ]
  },
  {
   "cell_type": "code",
   "execution_count": 23,
   "metadata": {},
   "outputs": [
    {
     "data": {
      "text/plain": [
       "<AxesSubplot:xlabel='ATK', ylabel='HP'>"
      ]
     },
     "execution_count": 23,
     "metadata": {},
     "output_type": "execute_result"
    },
    {
     "data": {
      "image/png": "[encoded data removed]",
      "text/plain": [
       "<Figure size 432x288 with 1 Axes>"
      ]
     },
     "metadata": {
      "needs_background": "light"
     },
     "output_type": "display_data"
    }
   ],
   "source": [
    "sns.scatterplot(data=df, x=\"ATK\", y=\"HP\")\n",
    "sns.scatterplot(data=df, x=\"DEF\", y=\"HP\")"
   ]
  },
  {
   "cell_type": "code",
   "execution_count": 25,
   "metadata": {},
   "outputs": [
    {
     "data": {
      "text/plain": [
       "count       40.000000\n",
       "mean     11428.250000\n",
       "std       1565.804925\n",
       "min       9189.000000\n",
       "25%      10072.250000\n",
       "50%      11092.500000\n",
       "75%      12870.250000\n",
       "max      14695.000000\n",
       "Name: HP, dtype: float64"
      ]
     },
     "execution_count": 25,
     "metadata": {},
     "output_type": "execute_result"
    }
   ],
   "source": [
    "df.HP.describe()"
   ]
  },
  {
   "cell_type": "code",
   "execution_count": 30,
   "metadata": {},
   "outputs": [
    {
     "data": {
      "text/plain": [
       "7     14695\n",
       "26    14695\n",
       "36    13348\n",
       "Name: HP, dtype: int64"
      ]
     },
     "execution_count": 30,
     "metadata": {},
     "output_type": "execute_result"
    }
   ],
   "source": [
    "df.HP.sort_values(ascending=False).iloc[:3]"
   ]
  },
  {
   "cell_type": "code",
   "execution_count": 31,
   "metadata": {},
   "outputs": [
    {
     "data": {
      "text/html": [
       "<div>\n",
       "<style scoped>\n",
       "    .dataframe tbody tr th:only-of-type {\n",
       "        vertical-align: middle;\n",
       "    }\n",
       "\n",
       "    .dataframe tbody tr th {\n",
       "        vertical-align: top;\n",
       "    }\n",
       "\n",
       "    .dataframe thead th {\n",
       "        text-align: right;\n",
       "    }\n",
       "</style>\n",
       "<table border=\"1\" class=\"dataframe\">\n",
       "  <thead>\n",
       "    <tr style=\"text-align: right;\">\n",
       "      <th></th>\n",
       "      <th>Character</th>\n",
       "      <th>Level</th>\n",
       "      <th>Weapon</th>\n",
       "      <th>HP</th>\n",
       "      <th>ATK</th>\n",
       "      <th>DEF</th>\n",
       "      <th>Special Attribute</th>\n",
       "      <th>Attribute</th>\n",
       "      <th>Crit Rate</th>\n",
       "      <th>DMG+CritDMG</th>\n",
       "    </tr>\n",
       "  </thead>\n",
       "  <tbody>\n",
       "    <tr>\n",
       "      <th>7</th>\n",
       "      <td>Jean</td>\n",
       "      <td>90</td>\n",
       "      <td>Espada</td>\n",
       "      <td>14695</td>\n",
       "      <td>239</td>\n",
       "      <td>769</td>\n",
       "      <td>0.222</td>\n",
       "      <td>Healing Bonus</td>\n",
       "      <td>0.05</td>\n",
       "      <td>1.5</td>\n",
       "    </tr>\n",
       "    <tr>\n",
       "      <th>26</th>\n",
       "      <td>Zhongli</td>\n",
       "      <td>90</td>\n",
       "      <td>Lança</td>\n",
       "      <td>14695</td>\n",
       "      <td>251</td>\n",
       "      <td>738</td>\n",
       "      <td>0.288</td>\n",
       "      <td>Earth Damage</td>\n",
       "      <td>0.05</td>\n",
       "      <td>1.5</td>\n",
       "    </tr>\n",
       "    <tr>\n",
       "      <th>36</th>\n",
       "      <td>Kaedehara Kazuha</td>\n",
       "      <td>90</td>\n",
       "      <td>Espada</td>\n",
       "      <td>13348</td>\n",
       "      <td>297</td>\n",
       "      <td>807</td>\n",
       "      <td>115.000</td>\n",
       "      <td>Elemental Proficiency</td>\n",
       "      <td>0.05</td>\n",
       "      <td>1.5</td>\n",
       "    </tr>\n",
       "  </tbody>\n",
       "</table>\n",
       "</div>"
      ],
      "text/plain": [
       "           Character  Level  Weapon     HP  ATK  DEF  Special Attribute  \\\n",
       "7               Jean     90  Espada  14695  239  769              0.222   \n",
       "26           Zhongli     90   Lança  14695  251  738              0.288   \n",
       "36  Kaedehara Kazuha     90  Espada  13348  297  807            115.000   \n",
       "\n",
       "                Attribute  Crit Rate  DMG+CritDMG  \n",
       "7           Healing Bonus       0.05          1.5  \n",
       "26           Earth Damage       0.05          1.5  \n",
       "36  Elemental Proficiency       0.05          1.5  "
      ]
     },
     "execution_count": 31,
     "metadata": {},
     "output_type": "execute_result"
    }
   ],
   "source": [
    "df.sort_values(by=\"HP\", ascending=False).iloc[:3]"
   ]
  },
  {
   "cell_type": "code",
   "execution_count": 32,
   "metadata": {},
   "outputs": [
    {
     "data": {
      "text/plain": [
       "1347"
      ]
     },
     "execution_count": 32,
     "metadata": {},
     "output_type": "execute_result"
    }
   ],
   "source": [
    "14695 - 13348"
   ]
  },
  {
   "cell_type": "code",
   "execution_count": 33,
   "metadata": {},
   "outputs": [
    {
     "data": {
      "text/plain": [
       "0.8602604184553833"
      ]
     },
     "execution_count": 33,
     "metadata": {},
     "output_type": "execute_result"
    }
   ],
   "source": [
    "1347 / 1565.804925"
   ]
  },
  {
   "cell_type": "markdown",
   "metadata": {},
   "source": [
    "### More Outliers\n",
    "The top two HP Characters after removing the ATK outlier are 0.86 std away *from the next highest HP*. I will remove them as well."
   ]
  },
  {
   "cell_type": "code",
   "execution_count": 36,
   "metadata": {},
   "outputs": [
    {
     "data": {
      "text/plain": [
       "7        Jean\n",
       "26    Zhongli\n",
       "Name: Character, dtype: object"
      ]
     },
     "execution_count": 36,
     "metadata": {},
     "output_type": "execute_result"
    }
   ],
   "source": [
    "remove_names = df.sort_values(by=\"HP\", ascending=False).Character.iloc[:2]\n",
    "remove_names"
   ]
  },
  {
   "cell_type": "code",
   "execution_count": 46,
   "metadata": {},
   "outputs": [],
   "source": [
    "df = df[~df.Character.isin(remove_names)]"
   ]
  },
  {
   "cell_type": "code",
   "execution_count": 47,
   "metadata": {},
   "outputs": [
    {
     "data": {
      "text/plain": [
       "<AxesSubplot:xlabel='ATK', ylabel='HP'>"
      ]
     },
     "execution_count": 47,
     "metadata": {},
     "output_type": "execute_result"
    },
    {
     "data": {
      "image/png": "[encoded data removed]",
      "text/plain": [
       "<Figure size 432x288 with 1 Axes>"
      ]
     },
     "metadata": {
      "needs_background": "light"
     },
     "output_type": "display_data"
    }
   ],
   "source": [
    "sns.scatterplot(data=df, x=\"ATK\", y=\"HP\")\n",
    "sns.scatterplot(data=df, x=\"DEF\", y=\"HP\")"
   ]
  },
  {
   "cell_type": "markdown",
   "metadata": {},
   "source": [
    "## Linear Regression Models\n",
    "I'm going to test linear regressions for both `ATK -> HP` and `DEF -> HP` and compare their results using Mean Absolute Error"
   ]
  },
  {
   "cell_type": "code",
   "execution_count": 49,
   "metadata": {},
   "outputs": [],
   "source": [
    "from sklearn.model_selection import train_test_split\n",
    "from sklearn.metrics import mean_absolute_error\n",
    "from sklearn.linear_model import LinearRegression\n",
    "\n",
    "lin_atk_model = LinearRegression()\n",
    "lin_def_model = LinearRegression()\n",
    "\n",
    "# Features + Target for splitting\n",
    "X_atk = df['ATK']\n",
    "y_atk = df.HP\n",
    "\n",
    "# Features + Target for splitting\n",
    "X_def = df['DEF']\n",
    "y_def = df.HP\n",
    "\n",
    "\n",
    "X_train_atk, X_test_atk, y_train_atk, y_test_atk = train_test_split(X_atk, y_atk, random_state=1, test_size=0.2)\n",
    "X_train_def, X_test_def, y_train_def, y_test_def = train_test_split(X_def, y_def, random_state=1, test_size=0.2)"
   ]
  },
  {
   "cell_type": "code",
   "execution_count": 83,
   "metadata": {},
   "outputs": [
    {
     "data": {
      "text/plain": [
       "LinearRegression()"
      ]
     },
     "execution_count": 83,
     "metadata": {},
     "output_type": "execute_result"
    }
   ],
   "source": [
    "lin_def_model.fit(X_train_def.values.reshape(-1,1), y_train_def.values.reshape(-1,1))\n",
    "lin_atk_model.fit(X_train_atk.values.reshape(-1,1), y_train_atk.values.reshape(-1,1))"
   ]
  },
  {
   "cell_type": "code",
   "execution_count": 88,
   "metadata": {},
   "outputs": [],
   "source": [
    "pred_atk = lin_atk_model.predict(X_test_atk.values.reshape(-1,1))\n",
    "pred_def = lin_def_model.predict(X_test_def.values.reshape(-1,1))"
   ]
  },
  {
   "cell_type": "code",
   "execution_count": 89,
   "metadata": {},
   "outputs": [
    {
     "data": {
      "text/plain": [
       "[<matplotlib.lines.Line2D at 0x7fbd8e2946a0>]"
      ]
     },
     "execution_count": 89,
     "metadata": {},
     "output_type": "execute_result"
    },
    {
     "data": {
      "image/png": "[encoded data removed]",
      "text/plain": [
       "<Figure size 432x288 with 1 Axes>"
      ]
     },
     "metadata": {
      "needs_background": "light"
     },
     "output_type": "display_data"
    }
   ],
   "source": [
    "sns.scatterplot(data=df, x=\"ATK\", y=\"HP\")\n",
    "sns.scatterplot(data=df, x=\"DEF\", y=\"HP\")\n",
    "plt.plot(X_test_atk, pred_atk)\n",
    "plt.plot(X_test_def, pred_def)"
   ]
  },
  {
   "cell_type": "code",
   "execution_count": 94,
   "metadata": {},
   "outputs": [
    {
     "name": "stdout",
     "output_type": "stream",
     "text": [
      "ATK MAE: 1329.3620104742813\n",
      "DEF MAE: 736.5577954646224\n",
      "HP  STD: 1406.0815228617237\n",
      "ATK is 0.945437365373169 STDs\n",
      "DEF is 0.523837191150585 STDs\n"
     ]
    }
   ],
   "source": [
    "mae_atk = mean_absolute_error(pred_atk, y_test_atk)\n",
    "mae_def = mean_absolute_error(pred_def, y_test_def)\n",
    "\n",
    "print(f\"ATK MAE: {mae_atk}\")\n",
    "print(f\"DEF MAE: {mae_def}\")\n",
    "print(f\"HP  STD: {df.HP.std()}\")\n",
    "\n",
    "print(f\"ATK is {mae_atk/df.HP.std()} STDs\")\n",
    "print(f\"DEF is {mae_def/df.HP.std()} STDs\")"
   ]
  },
  {
   "cell_type": "markdown",
   "metadata": {},
   "source": [
    "#### Results\n",
    "`DEF` is a better predictor of `HP` than `ATK`.\n",
    "\n",
    "Can they be combined to create a better predictor, though?"
   ]
  },
  {
   "cell_type": "code",
   "execution_count": null,
   "metadata": {},
   "outputs": [],
   "source": []
  }
 ],
 "metadata": {
  "interpreter": {
   "hash": "abecc9efee1d216150679339f7cb39e17f2b3783b014e8db6aa18b4f299df678"
  },
  "kernelspec": {
   "display_name": "Python 3.8.8 64-bit ('base': conda)",
   "language": "python",
   "name": "python3"
  },
  "language_info": {
   "codemirror_mode": {
    "name": "ipython",
    "version": 3
   },
   "file_extension": ".py",
   "mimetype": "text/x-python",
   "name": "python",
   "nbconvert_exporter": "python",
   "pygments_lexer": "ipython3",
   "version": "3.8.8"
  },
  "orig_nbformat": 4
 },
 "nbformat": 4,
 "nbformat_minor": 2
}
