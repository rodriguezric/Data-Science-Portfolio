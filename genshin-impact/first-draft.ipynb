{
 "cells": [
  {
   "cell_type": "code",
   "execution_count": 10,
   "metadata": {},
   "outputs": [],
   "source": [
    "import numpy as np\n",
    "import pandas as pd\n",
    "import matplotlib.pyplot as plt\n",
    "import seaborn as sns"
   ]
  },
  {
   "cell_type": "code",
   "execution_count": 11,
   "metadata": {},
   "outputs": [],
   "source": [
    "df = pd.read_csv('CharAtbMax.csv')"
   ]
  },
  {
   "cell_type": "code",
   "execution_count": 12,
   "metadata": {},
   "outputs": [
    {
     "data": {
      "text/html": [
       "<div>\n",
       "<style scoped>\n",
       "    .dataframe tbody tr th:only-of-type {\n",
       "        vertical-align: middle;\n",
       "    }\n",
       "\n",
       "    .dataframe tbody tr th {\n",
       "        vertical-align: top;\n",
       "    }\n",
       "\n",
       "    .dataframe thead th {\n",
       "        text-align: right;\n",
       "    }\n",
       "</style>\n",
       "<table border=\"1\" class=\"dataframe\">\n",
       "  <thead>\n",
       "    <tr style=\"text-align: right;\">\n",
       "      <th></th>\n",
       "      <th>Personagem</th>\n",
       "      <th>Level</th>\n",
       "      <th>Arma</th>\n",
       "      <th>HP</th>\n",
       "      <th>ATK</th>\n",
       "      <th>DEF</th>\n",
       "      <th>SPAtrib</th>\n",
       "      <th>Atributo</th>\n",
       "      <th>TaxaCrit</th>\n",
       "      <th>Dano+DanoCritico</th>\n",
       "    </tr>\n",
       "  </thead>\n",
       "  <tbody>\n",
       "    <tr>\n",
       "      <th>0</th>\n",
       "      <td>Amber</td>\n",
       "      <td>90</td>\n",
       "      <td>Arco</td>\n",
       "      <td>9461</td>\n",
       "      <td>223</td>\n",
       "      <td>601</td>\n",
       "      <td>0.240</td>\n",
       "      <td>%ATK</td>\n",
       "      <td>0.05</td>\n",
       "      <td>1.5</td>\n",
       "    </tr>\n",
       "    <tr>\n",
       "      <th>1</th>\n",
       "      <td>Barbara</td>\n",
       "      <td>90</td>\n",
       "      <td>Catalisador</td>\n",
       "      <td>9787</td>\n",
       "      <td>159</td>\n",
       "      <td>669</td>\n",
       "      <td>0.240</td>\n",
       "      <td>%Vida</td>\n",
       "      <td>0.05</td>\n",
       "      <td>1.5</td>\n",
       "    </tr>\n",
       "    <tr>\n",
       "      <th>2</th>\n",
       "      <td>Beidou</td>\n",
       "      <td>90</td>\n",
       "      <td>Espadão</td>\n",
       "      <td>13050</td>\n",
       "      <td>225</td>\n",
       "      <td>648</td>\n",
       "      <td>0.240</td>\n",
       "      <td>%DanoElectro</td>\n",
       "      <td>0.05</td>\n",
       "      <td>1.5</td>\n",
       "    </tr>\n",
       "    <tr>\n",
       "      <th>3</th>\n",
       "      <td>Bennett</td>\n",
       "      <td>90</td>\n",
       "      <td>Espada</td>\n",
       "      <td>12397</td>\n",
       "      <td>191</td>\n",
       "      <td>771</td>\n",
       "      <td>0.267</td>\n",
       "      <td>%RecargaEnergia</td>\n",
       "      <td>0.05</td>\n",
       "      <td>1.5</td>\n",
       "    </tr>\n",
       "    <tr>\n",
       "      <th>4</th>\n",
       "      <td>Chongyun</td>\n",
       "      <td>90</td>\n",
       "      <td>Espadão</td>\n",
       "      <td>10984</td>\n",
       "      <td>223</td>\n",
       "      <td>648</td>\n",
       "      <td>0.240</td>\n",
       "      <td>%ATK</td>\n",
       "      <td>0.05</td>\n",
       "      <td>1.5</td>\n",
       "    </tr>\n",
       "  </tbody>\n",
       "</table>\n",
       "</div>"
      ],
      "text/plain": [
       "  Personagem  Level         Arma     HP  ATK  DEF  SPAtrib         Atributo  \\\n",
       "0      Amber     90         Arco   9461  223  601    0.240             %ATK   \n",
       "1    Barbara     90  Catalisador   9787  159  669    0.240            %Vida   \n",
       "2     Beidou     90      Espadão  13050  225  648    0.240     %DanoElectro   \n",
       "3    Bennett     90       Espada  12397  191  771    0.267  %RecargaEnergia   \n",
       "4   Chongyun     90      Espadão  10984  223  648    0.240             %ATK   \n",
       "\n",
       "   TaxaCrit  Dano+DanoCritico  \n",
       "0      0.05               1.5  \n",
       "1      0.05               1.5  \n",
       "2      0.05               1.5  \n",
       "3      0.05               1.5  \n",
       "4      0.05               1.5  "
      ]
     },
     "execution_count": 12,
     "metadata": {},
     "output_type": "execute_result"
    }
   ],
   "source": [
    "df.head()"
   ]
  },
  {
   "cell_type": "markdown",
   "metadata": {},
   "source": [
    "## Cleanup\n",
    "I spent some time cleaning up the column names to terms that I could read easier. This involved translating some words to English and abbreviating some terms `Bonus -> +`\n",
    "\n",
    "I also created a separate DataFrame for looking at my columns of interest. The dataset is rather small in total (410) so it wasn't too important to do with this set."
   ]
  },
  {
   "cell_type": "code",
   "execution_count": null,
   "metadata": {},
   "outputs": [],
   "source": []
  },
  {
   "cell_type": "code",
   "execution_count": null,
   "metadata": {},
   "outputs": [],
   "source": []
  },
  {
   "cell_type": "code",
   "execution_count": 13,
   "metadata": {},
   "outputs": [],
   "source": [
    "# Renaming columns \n",
    "df.columns = [\"Name\", \"Level\", \"Weapon\", \"HP\", \"ATK\", \"DEF\", \"SPAtrib\", \"Attribute\", \"Crit\", \"Dmg+Crit\"]"
   ]
  },
  {
   "cell_type": "code",
   "execution_count": 14,
   "metadata": {},
   "outputs": [
    {
     "data": {
      "text/html": [
       "<div>\n",
       "<style scoped>\n",
       "    .dataframe tbody tr th:only-of-type {\n",
       "        vertical-align: middle;\n",
       "    }\n",
       "\n",
       "    .dataframe tbody tr th {\n",
       "        vertical-align: top;\n",
       "    }\n",
       "\n",
       "    .dataframe thead th {\n",
       "        text-align: right;\n",
       "    }\n",
       "</style>\n",
       "<table border=\"1\" class=\"dataframe\">\n",
       "  <thead>\n",
       "    <tr style=\"text-align: right;\">\n",
       "      <th></th>\n",
       "      <th>Name</th>\n",
       "      <th>Level</th>\n",
       "      <th>Weapon</th>\n",
       "      <th>HP</th>\n",
       "      <th>ATK</th>\n",
       "      <th>DEF</th>\n",
       "      <th>SPAtrib</th>\n",
       "      <th>Attribute</th>\n",
       "      <th>Crit</th>\n",
       "      <th>Dmg+Crit</th>\n",
       "    </tr>\n",
       "  </thead>\n",
       "  <tbody>\n",
       "    <tr>\n",
       "      <th>0</th>\n",
       "      <td>Amber</td>\n",
       "      <td>90</td>\n",
       "      <td>Arco</td>\n",
       "      <td>9461</td>\n",
       "      <td>223</td>\n",
       "      <td>601</td>\n",
       "      <td>0.240</td>\n",
       "      <td>%ATK</td>\n",
       "      <td>0.05</td>\n",
       "      <td>1.5</td>\n",
       "    </tr>\n",
       "    <tr>\n",
       "      <th>1</th>\n",
       "      <td>Barbara</td>\n",
       "      <td>90</td>\n",
       "      <td>Catalisador</td>\n",
       "      <td>9787</td>\n",
       "      <td>159</td>\n",
       "      <td>669</td>\n",
       "      <td>0.240</td>\n",
       "      <td>%Vida</td>\n",
       "      <td>0.05</td>\n",
       "      <td>1.5</td>\n",
       "    </tr>\n",
       "    <tr>\n",
       "      <th>2</th>\n",
       "      <td>Beidou</td>\n",
       "      <td>90</td>\n",
       "      <td>Espadão</td>\n",
       "      <td>13050</td>\n",
       "      <td>225</td>\n",
       "      <td>648</td>\n",
       "      <td>0.240</td>\n",
       "      <td>%DanoElectro</td>\n",
       "      <td>0.05</td>\n",
       "      <td>1.5</td>\n",
       "    </tr>\n",
       "    <tr>\n",
       "      <th>3</th>\n",
       "      <td>Bennett</td>\n",
       "      <td>90</td>\n",
       "      <td>Espada</td>\n",
       "      <td>12397</td>\n",
       "      <td>191</td>\n",
       "      <td>771</td>\n",
       "      <td>0.267</td>\n",
       "      <td>%RecargaEnergia</td>\n",
       "      <td>0.05</td>\n",
       "      <td>1.5</td>\n",
       "    </tr>\n",
       "    <tr>\n",
       "      <th>4</th>\n",
       "      <td>Chongyun</td>\n",
       "      <td>90</td>\n",
       "      <td>Espadão</td>\n",
       "      <td>10984</td>\n",
       "      <td>223</td>\n",
       "      <td>648</td>\n",
       "      <td>0.240</td>\n",
       "      <td>%ATK</td>\n",
       "      <td>0.05</td>\n",
       "      <td>1.5</td>\n",
       "    </tr>\n",
       "  </tbody>\n",
       "</table>\n",
       "</div>"
      ],
      "text/plain": [
       "       Name  Level       Weapon     HP  ATK  DEF  SPAtrib        Attribute  \\\n",
       "0     Amber     90         Arco   9461  223  601    0.240             %ATK   \n",
       "1   Barbara     90  Catalisador   9787  159  669    0.240            %Vida   \n",
       "2    Beidou     90      Espadão  13050  225  648    0.240     %DanoElectro   \n",
       "3   Bennett     90       Espada  12397  191  771    0.267  %RecargaEnergia   \n",
       "4  Chongyun     90      Espadão  10984  223  648    0.240             %ATK   \n",
       "\n",
       "   Crit  Dmg+Crit  \n",
       "0  0.05       1.5  \n",
       "1  0.05       1.5  \n",
       "2  0.05       1.5  \n",
       "3  0.05       1.5  \n",
       "4  0.05       1.5  "
      ]
     },
     "execution_count": 14,
     "metadata": {},
     "output_type": "execute_result"
    }
   ],
   "source": [
    "df.head()"
   ]
  },
  {
   "cell_type": "code",
   "execution_count": 15,
   "metadata": {},
   "outputs": [
    {
     "data": {
      "text/plain": [
       "Name         0\n",
       "Level        0\n",
       "Weapon       0\n",
       "HP           0\n",
       "ATK          0\n",
       "DEF          0\n",
       "SPAtrib      0\n",
       "Attribute    0\n",
       "Crit         0\n",
       "Dmg+Crit     0\n",
       "dtype: int64"
      ]
     },
     "execution_count": 15,
     "metadata": {},
     "output_type": "execute_result"
    }
   ],
   "source": [
    "# Has no empties\n",
    "df.isnull().sum()"
   ]
  },
  {
   "cell_type": "code",
   "execution_count": 16,
   "metadata": {},
   "outputs": [
    {
     "data": {
      "text/html": [
       "<div>\n",
       "<style scoped>\n",
       "    .dataframe tbody tr th:only-of-type {\n",
       "        vertical-align: middle;\n",
       "    }\n",
       "\n",
       "    .dataframe tbody tr th {\n",
       "        vertical-align: top;\n",
       "    }\n",
       "\n",
       "    .dataframe thead th {\n",
       "        text-align: right;\n",
       "    }\n",
       "</style>\n",
       "<table border=\"1\" class=\"dataframe\">\n",
       "  <thead>\n",
       "    <tr style=\"text-align: right;\">\n",
       "      <th></th>\n",
       "      <th>HP</th>\n",
       "      <th>ATK</th>\n",
       "      <th>DEF</th>\n",
       "    </tr>\n",
       "  </thead>\n",
       "  <tbody>\n",
       "    <tr>\n",
       "      <th>count</th>\n",
       "      <td>41.000000</td>\n",
       "      <td>41.000000</td>\n",
       "      <td>41.000000</td>\n",
       "    </tr>\n",
       "    <tr>\n",
       "      <th>mean</th>\n",
       "      <td>11528.829268</td>\n",
       "      <td>249.975610</td>\n",
       "      <td>716.073171</td>\n",
       "    </tr>\n",
       "    <tr>\n",
       "      <th>std</th>\n",
       "      <td>1674.877666</td>\n",
       "      <td>57.049315</td>\n",
       "      <td>90.654672</td>\n",
       "    </tr>\n",
       "    <tr>\n",
       "      <th>min</th>\n",
       "      <td>9189.000000</td>\n",
       "      <td>106.000000</td>\n",
       "      <td>573.000000</td>\n",
       "    </tr>\n",
       "    <tr>\n",
       "      <th>25%</th>\n",
       "      <td>10164.000000</td>\n",
       "      <td>212.000000</td>\n",
       "      <td>648.000000</td>\n",
       "    </tr>\n",
       "    <tr>\n",
       "      <th>50%</th>\n",
       "      <td>11201.000000</td>\n",
       "      <td>240.000000</td>\n",
       "      <td>710.000000</td>\n",
       "    </tr>\n",
       "    <tr>\n",
       "      <th>75%</th>\n",
       "      <td>12907.000000</td>\n",
       "      <td>297.000000</td>\n",
       "      <td>789.000000</td>\n",
       "    </tr>\n",
       "    <tr>\n",
       "      <th>max</th>\n",
       "      <td>15552.000000</td>\n",
       "      <td>349.000000</td>\n",
       "      <td>922.000000</td>\n",
       "    </tr>\n",
       "  </tbody>\n",
       "</table>\n",
       "</div>"
      ],
      "text/plain": [
       "                 HP         ATK         DEF\n",
       "count     41.000000   41.000000   41.000000\n",
       "mean   11528.829268  249.975610  716.073171\n",
       "std     1674.877666   57.049315   90.654672\n",
       "min     9189.000000  106.000000  573.000000\n",
       "25%    10164.000000  212.000000  648.000000\n",
       "50%    11201.000000  240.000000  710.000000\n",
       "75%    12907.000000  297.000000  789.000000\n",
       "max    15552.000000  349.000000  922.000000"
      ]
     },
     "execution_count": 16,
     "metadata": {},
     "output_type": "execute_result"
    }
   ],
   "source": [
    "df_base_stats = df[['HP', 'ATK', 'DEF']]\n",
    "df_base_stats.describe()"
   ]
  },
  {
   "cell_type": "code",
   "execution_count": 17,
   "metadata": {},
   "outputs": [
    {
     "data": {
      "text/html": [
       "<div>\n",
       "<style scoped>\n",
       "    .dataframe tbody tr th:only-of-type {\n",
       "        vertical-align: middle;\n",
       "    }\n",
       "\n",
       "    .dataframe tbody tr th {\n",
       "        vertical-align: top;\n",
       "    }\n",
       "\n",
       "    .dataframe thead th {\n",
       "        text-align: right;\n",
       "    }\n",
       "</style>\n",
       "<table border=\"1\" class=\"dataframe\">\n",
       "  <thead>\n",
       "    <tr style=\"text-align: right;\">\n",
       "      <th></th>\n",
       "      <th>HP</th>\n",
       "      <th>ATK</th>\n",
       "      <th>DEF</th>\n",
       "    </tr>\n",
       "  </thead>\n",
       "  <tbody>\n",
       "    <tr>\n",
       "      <th>0</th>\n",
       "      <td>9461</td>\n",
       "      <td>223</td>\n",
       "      <td>601</td>\n",
       "    </tr>\n",
       "    <tr>\n",
       "      <th>1</th>\n",
       "      <td>9787</td>\n",
       "      <td>159</td>\n",
       "      <td>669</td>\n",
       "    </tr>\n",
       "    <tr>\n",
       "      <th>2</th>\n",
       "      <td>13050</td>\n",
       "      <td>225</td>\n",
       "      <td>648</td>\n",
       "    </tr>\n",
       "    <tr>\n",
       "      <th>3</th>\n",
       "      <td>12397</td>\n",
       "      <td>191</td>\n",
       "      <td>771</td>\n",
       "    </tr>\n",
       "    <tr>\n",
       "      <th>4</th>\n",
       "      <td>10984</td>\n",
       "      <td>223</td>\n",
       "      <td>648</td>\n",
       "    </tr>\n",
       "  </tbody>\n",
       "</table>\n",
       "</div>"
      ],
      "text/plain": [
       "      HP  ATK  DEF\n",
       "0   9461  223  601\n",
       "1   9787  159  669\n",
       "2  13050  225  648\n",
       "3  12397  191  771\n",
       "4  10984  223  648"
      ]
     },
     "execution_count": 17,
     "metadata": {},
     "output_type": "execute_result"
    }
   ],
   "source": [
    "df_base_stats.head()"
   ]
  },
  {
   "cell_type": "code",
   "execution_count": 18,
   "metadata": {},
   "outputs": [
    {
     "data": {
      "text/plain": [
       "<seaborn.axisgrid.PairGrid at 0x7f7695105fa0>"
      ]
     },
     "execution_count": 18,
     "metadata": {},
     "output_type": "execute_result"
    },
    {
     "data": {
      "image/png": "[encoded data removed]",
      "text/plain": [
       "<Figure size 540x540 with 12 Axes>"
      ]
     },
     "metadata": {
      "needs_background": "light"
     },
     "output_type": "display_data"
    }
   ],
   "source": [
    "sns.pairplot(df_base_stats)"
   ]
  },
  {
   "cell_type": "code",
   "execution_count": 19,
   "metadata": {},
   "outputs": [
    {
     "data": {
      "text/plain": [
       "410"
      ]
     },
     "execution_count": 19,
     "metadata": {},
     "output_type": "execute_result"
    }
   ],
   "source": [
    "# Small dataset, only 410\n",
    "df.size"
   ]
  },
  {
   "cell_type": "code",
   "execution_count": 20,
   "metadata": {},
   "outputs": [],
   "source": [
    "# I will run use a RandomForestRegressor model for predicting results\n",
    "from sklearn.ensemble import RandomForestRegressor\n",
    "model = RandomForestRegressor(random_state = 1)"
   ]
  },
  {
   "cell_type": "code",
   "execution_count": 21,
   "metadata": {},
   "outputs": [],
   "source": [
    "# I want to predict HP based on ATK and DEF\n",
    "from sklearn.model_selection import train_test_split\n",
    "\n",
    "y = df_base_stats.HP\n",
    "X = df_base_stats.drop(['HP'], axis=1)\n",
    "\n",
    "X_train, X_test, y_train, y_test = train_test_split(X, y, test_size=0.2, random_state=1)"
   ]
  },
  {
   "cell_type": "code",
   "execution_count": 22,
   "metadata": {},
   "outputs": [
    {
     "data": {
      "text/plain": [
       "RandomForestRegressor(random_state=1)"
      ]
     },
     "execution_count": 22,
     "metadata": {},
     "output_type": "execute_result"
    }
   ],
   "source": [
    "# Fit the model on the training data\n",
    "model.fit(X_train, y_train)"
   ]
  },
  {
   "cell_type": "code",
   "execution_count": 23,
   "metadata": {},
   "outputs": [
    {
     "name": "stdout",
     "output_type": "stream",
     "text": [
      "1023.4388888888885\n"
     ]
    }
   ],
   "source": [
    "from sklearn.metrics import mean_absolute_error\n",
    "\n",
    "pred_test = model.predict(X_test)\n",
    "print(mean_absolute_error(pred_test, y_test))"
   ]
  },
  {
   "cell_type": "code",
   "execution_count": 33,
   "metadata": {},
   "outputs": [
    {
     "data": {
      "text/plain": [
       "0.6107908779052285"
      ]
     },
     "execution_count": 33,
     "metadata": {},
     "output_type": "execute_result"
    }
   ],
   "source": [
    "# The STD for HP is: 1674.877666\n",
    "1023 / 1674.877666"
   ]
  },
  {
   "cell_type": "markdown",
   "metadata": {},
   "source": [
    "The Result is less than a full standard deviation from HP's mean."
   ]
  },
  {
   "cell_type": "code",
   "execution_count": 24,
   "metadata": {},
   "outputs": [
    {
     "data": {
      "text/html": [
       "<div>\n",
       "<style scoped>\n",
       "    .dataframe tbody tr th:only-of-type {\n",
       "        vertical-align: middle;\n",
       "    }\n",
       "\n",
       "    .dataframe tbody tr th {\n",
       "        vertical-align: top;\n",
       "    }\n",
       "\n",
       "    .dataframe thead th {\n",
       "        text-align: right;\n",
       "    }\n",
       "</style>\n",
       "<table border=\"1\" class=\"dataframe\">\n",
       "  <thead>\n",
       "    <tr style=\"text-align: right;\">\n",
       "      <th></th>\n",
       "      <th>HP</th>\n",
       "      <th>ATK</th>\n",
       "      <th>DEF</th>\n",
       "    </tr>\n",
       "  </thead>\n",
       "  <tbody>\n",
       "    <tr>\n",
       "      <th>0</th>\n",
       "      <td>9461</td>\n",
       "      <td>223</td>\n",
       "      <td>601</td>\n",
       "    </tr>\n",
       "    <tr>\n",
       "      <th>1</th>\n",
       "      <td>9787</td>\n",
       "      <td>159</td>\n",
       "      <td>669</td>\n",
       "    </tr>\n",
       "    <tr>\n",
       "      <th>2</th>\n",
       "      <td>13050</td>\n",
       "      <td>225</td>\n",
       "      <td>648</td>\n",
       "    </tr>\n",
       "    <tr>\n",
       "      <th>3</th>\n",
       "      <td>12397</td>\n",
       "      <td>191</td>\n",
       "      <td>771</td>\n",
       "    </tr>\n",
       "    <tr>\n",
       "      <th>4</th>\n",
       "      <td>10984</td>\n",
       "      <td>223</td>\n",
       "      <td>648</td>\n",
       "    </tr>\n",
       "  </tbody>\n",
       "</table>\n",
       "</div>"
      ],
      "text/plain": [
       "      HP  ATK  DEF\n",
       "0   9461  223  601\n",
       "1   9787  159  669\n",
       "2  13050  225  648\n",
       "3  12397  191  771\n",
       "4  10984  223  648"
      ]
     },
     "execution_count": 24,
     "metadata": {},
     "output_type": "execute_result"
    }
   ],
   "source": [
    "df_base_stats.head()"
   ]
  },
  {
   "cell_type": "markdown",
   "metadata": {},
   "source": [
    "## Thoughts\n",
    "The MAE looks high. I reviewed my notes and it looks like I can `preprocess` the data. "
   ]
  },
  {
   "cell_type": "code",
   "execution_count": 25,
   "metadata": {},
   "outputs": [],
   "source": [
    "# Preprocessing and refitting\n",
    "from sklearn import preprocessing\n",
    "scaler = preprocessing.StandardScaler().fit(X_train)\n",
    "X_train_scaled = scaler.transform(X_train)"
   ]
  },
  {
   "cell_type": "code",
   "execution_count": 26,
   "metadata": {},
   "outputs": [
    {
     "data": {
      "text/plain": [
       "RandomForestRegressor(random_state=1)"
      ]
     },
     "execution_count": 26,
     "metadata": {},
     "output_type": "execute_result"
    }
   ],
   "source": [
    "model.fit(X_train_scaled, y_train)"
   ]
  },
  {
   "cell_type": "code",
   "execution_count": 27,
   "metadata": {},
   "outputs": [
    {
     "name": "stdout",
     "output_type": "stream",
     "text": [
      "1646.0755555555554\n"
     ]
    }
   ],
   "source": [
    "# Scaling caused it to perform worse\n",
    "pred_test2 = model.predict(X_test)\n",
    "print(mean_absolute_error(pred_test2, y_test))"
   ]
  },
  {
   "cell_type": "markdown",
   "metadata": {},
   "source": [
    "The scaled result is nearly 1 whole STD: 1674.877666"
   ]
  },
  {
   "cell_type": "code",
   "execution_count": 28,
   "metadata": {},
   "outputs": [
    {
     "data": {
      "text/plain": [
       "<matplotlib.legend.Legend at 0x7f768f4e6df0>"
      ]
     },
     "execution_count": 28,
     "metadata": {},
     "output_type": "execute_result"
    },
    {
     "data": {
      "image/png": "[encoded data removed]",
      "text/plain": [
       "<Figure size 432x288 with 1 Axes>"
      ]
     },
     "metadata": {
      "needs_background": "light"
     },
     "output_type": "display_data"
    }
   ],
   "source": [
    "# There is a crazy outliter for low attack and high HP that is likely skewing my results\n",
    "sns.scatterplot(data=df, x=\"ATK\", y=\"HP\", hue=\"Attribute\")\n",
    "plt.legend(loc=(1.2, 0))"
   ]
  },
  {
   "cell_type": "code",
   "execution_count": 29,
   "metadata": {},
   "outputs": [
    {
     "data": {
      "text/plain": [
       "<matplotlib.legend.Legend at 0x7f768f51d430>"
      ]
     },
     "execution_count": 29,
     "metadata": {},
     "output_type": "execute_result"
    },
    {
     "data": {
      "image/png": "[encoded data removed]",
      "text/plain": [
       "<Figure size 432x288 with 1 Axes>"
      ]
     },
     "metadata": {
      "needs_background": "light"
     },
     "output_type": "display_data"
    }
   ],
   "source": [
    "sns.scatterplot(data=df, x=\"DEF\", y=\"HP\", hue=\"Attribute\")\n",
    "plt.legend(loc=(1.2, 0))"
   ]
  },
  {
   "cell_type": "code",
   "execution_count": 30,
   "metadata": {},
   "outputs": [
    {
     "data": {
      "text/plain": [
       "LinearRegression()"
      ]
     },
     "execution_count": 30,
     "metadata": {},
     "output_type": "execute_result"
    }
   ],
   "source": [
    "# We'll try linear regression with just DEF -> HP\n",
    "from sklearn.linear_model import LinearRegression\n",
    "lin_model = LinearRegression()\n",
    "lin_model.fit(X_train, y_train)"
   ]
  },
  {
   "cell_type": "code",
   "execution_count": 31,
   "metadata": {},
   "outputs": [],
   "source": [
    "lin_pred = lin_model.predict(X_test)"
   ]
  },
  {
   "cell_type": "code",
   "execution_count": 32,
   "metadata": {},
   "outputs": [
    {
     "name": "stdout",
     "output_type": "stream",
     "text": [
      "884.918435414869\n"
     ]
    }
   ],
   "source": [
    "print(mean_absolute_error(lin_pred, y_test))"
   ]
  },
  {
   "cell_type": "code",
   "execution_count": 34,
   "metadata": {},
   "outputs": [
    {
     "data": {
      "text/plain": [
       "0.5283430652659977"
      ]
     },
     "execution_count": 34,
     "metadata": {},
     "output_type": "execute_result"
    }
   ],
   "source": [
    "# Comparing linear regression result to standard deviate of HP\n",
    "884.91 / 1674.877666"
   ]
  },
  {
   "cell_type": "markdown",
   "metadata": {},
   "source": [
    "Half a standard deviation away from the mean. Initially when I looked a the value I thought it performed **much** better than the random forest, but when comparing these results to the STD they actually are pretty similar."
   ]
  },
  {
   "cell_type": "markdown",
   "metadata": {},
   "source": [
    "## Linear Regression Results\n",
    "The linear regression for `DEF -> HP` performed better than my random forest regression using the features `ATK` and `DEF`, but not majorly when considering the standard deviation of `HP`."
   ]
  }
 ],
 "metadata": {
  "interpreter": {
   "hash": "abecc9efee1d216150679339f7cb39e17f2b3783b014e8db6aa18b4f299df678"
  },
  "kernelspec": {
   "display_name": "Python 3.8.8 64-bit ('base': conda)",
   "language": "python",
   "name": "python3"
  },
  "language_info": {
   "codemirror_mode": {
    "name": "ipython",
    "version": 3
   },
   "file_extension": ".py",
   "mimetype": "text/x-python",
   "name": "python",
   "nbconvert_exporter": "python",
   "pygments_lexer": "ipython3",
   "version": "3.8.8"
  },
  "orig_nbformat": 4
 },
 "nbformat": 4,
 "nbformat_minor": 2
}
